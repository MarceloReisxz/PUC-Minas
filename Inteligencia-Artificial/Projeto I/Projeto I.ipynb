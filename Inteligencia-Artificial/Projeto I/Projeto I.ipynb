{
  "nbformat": 4,
  "nbformat_minor": 0,
  "metadata": {
    "colab": {
      "provenance": []
    },
    "kernelspec": {
      "name": "python3",
      "display_name": "Python 3"
    },
    "language_info": {
      "name": "python"
    }
  },
  "cells": [
    {
      "cell_type": "markdown",
      "source": [
        "**Atualizando a biblioteca para plotagem de gráficos**\n"
      ],
      "metadata": {
        "id": "WYfovYvpPtHN"
      }
    },
    {
      "cell_type": "code",
      "source": [
        "!pip -q install plotly --upgrade\n",
        "!pip -q install yellowbrick"
      ],
      "metadata": {
        "id": "hTIKXbn7PfB3"
      },
      "execution_count": null,
      "outputs": []
    },
    {
      "cell_type": "markdown",
      "source": [
        "**Importando bibliotecas**"
      ],
      "metadata": {
        "id": "vWFW_ECYPktU"
      }
    },
    {
      "cell_type": "code",
      "source": [
        "import pandas as pd\n",
        "import numpy as np\n",
        "import seaborn as sns\n",
        "import matplotlib.pyplot as plt\n",
        "import plotly.express as px\n",
        "from sklearn.tree import DecisionTreeClassifier\n",
        "from imblearn.under_sampling import RandomUnderSampler"
      ],
      "metadata": {
        "id": "kkOvJnL-P1QQ"
      },
      "execution_count": null,
      "outputs": []
    },
    {
      "cell_type": "markdown",
      "source": [
        "**Abrindo um arquivo CSV do drive**"
      ],
      "metadata": {
        "id": "A5YB5ubEQfaE"
      }
    },
    {
      "cell_type": "code",
      "source": [
        "base = pd.read_csv('/content/sample_data/drug200.csv', ';')"
      ],
      "metadata": {
        "id": "3rzDkhcBQddF",
        "colab": {
          "base_uri": "https://localhost:8080/"
        },
        "outputId": "93e51839-7b5b-46d2-a606-120ad34842da"
      },
      "execution_count": null,
      "outputs": [
        {
          "output_type": "stream",
          "name": "stderr",
          "text": [
            "<ipython-input-345-1a6a59d54381>:1: FutureWarning: In a future version of pandas all arguments of read_csv except for the argument 'filepath_or_buffer' will be keyword-only.\n",
            "  base = pd.read_csv('/content/sample_data/drug200.csv', ';')\n"
          ]
        }
      ]
    },
    {
      "cell_type": "code",
      "source": [
        "base"
      ],
      "metadata": {
        "id": "SFVtNXxPUAnR",
        "colab": {
          "base_uri": "https://localhost:8080/",
          "height": 424
        },
        "outputId": "6cbe49d1-9cfa-4d12-c451-197e897656ea"
      },
      "execution_count": null,
      "outputs": [
        {
          "output_type": "execute_result",
          "data": {
            "text/plain": [
              "     Age Sex      BP Cholesterol  Na_to_K   Drug\n",
              "0     23   F    HIGH        HIGH   25.355  drugY\n",
              "1     47   M     LOW        HIGH   13.093  drugC\n",
              "2     47   M     LOW        HIGH   10.114  drugC\n",
              "3     28   F  NORMAL        HIGH    7.798  drugX\n",
              "4     61   F     LOW        HIGH   18.043  drugY\n",
              "..   ...  ..     ...         ...      ...    ...\n",
              "195   56   F     LOW        HIGH   11.567  drugC\n",
              "196   16   M     LOW        HIGH   12.006  drugC\n",
              "197   52   M  NORMAL        HIGH    9.894  drugX\n",
              "198   23   M  NORMAL      NORMAL   14.020  drugX\n",
              "199   40   F     LOW      NORMAL   11.349  drugX\n",
              "\n",
              "[200 rows x 6 columns]"
            ],
            "text/html": [
              "\n",
              "  <div id=\"df-ead57859-70c3-4870-86b6-86b39c934b65\" class=\"colab-df-container\">\n",
              "    <div>\n",
              "<style scoped>\n",
              "    .dataframe tbody tr th:only-of-type {\n",
              "        vertical-align: middle;\n",
              "    }\n",
              "\n",
              "    .dataframe tbody tr th {\n",
              "        vertical-align: top;\n",
              "    }\n",
              "\n",
              "    .dataframe thead th {\n",
              "        text-align: right;\n",
              "    }\n",
              "</style>\n",
              "<table border=\"1\" class=\"dataframe\">\n",
              "  <thead>\n",
              "    <tr style=\"text-align: right;\">\n",
              "      <th></th>\n",
              "      <th>Age</th>\n",
              "      <th>Sex</th>\n",
              "      <th>BP</th>\n",
              "      <th>Cholesterol</th>\n",
              "      <th>Na_to_K</th>\n",
              "      <th>Drug</th>\n",
              "    </tr>\n",
              "  </thead>\n",
              "  <tbody>\n",
              "    <tr>\n",
              "      <th>0</th>\n",
              "      <td>23</td>\n",
              "      <td>F</td>\n",
              "      <td>HIGH</td>\n",
              "      <td>HIGH</td>\n",
              "      <td>25.355</td>\n",
              "      <td>drugY</td>\n",
              "    </tr>\n",
              "    <tr>\n",
              "      <th>1</th>\n",
              "      <td>47</td>\n",
              "      <td>M</td>\n",
              "      <td>LOW</td>\n",
              "      <td>HIGH</td>\n",
              "      <td>13.093</td>\n",
              "      <td>drugC</td>\n",
              "    </tr>\n",
              "    <tr>\n",
              "      <th>2</th>\n",
              "      <td>47</td>\n",
              "      <td>M</td>\n",
              "      <td>LOW</td>\n",
              "      <td>HIGH</td>\n",
              "      <td>10.114</td>\n",
              "      <td>drugC</td>\n",
              "    </tr>\n",
              "    <tr>\n",
              "      <th>3</th>\n",
              "      <td>28</td>\n",
              "      <td>F</td>\n",
              "      <td>NORMAL</td>\n",
              "      <td>HIGH</td>\n",
              "      <td>7.798</td>\n",
              "      <td>drugX</td>\n",
              "    </tr>\n",
              "    <tr>\n",
              "      <th>4</th>\n",
              "      <td>61</td>\n",
              "      <td>F</td>\n",
              "      <td>LOW</td>\n",
              "      <td>HIGH</td>\n",
              "      <td>18.043</td>\n",
              "      <td>drugY</td>\n",
              "    </tr>\n",
              "    <tr>\n",
              "      <th>...</th>\n",
              "      <td>...</td>\n",
              "      <td>...</td>\n",
              "      <td>...</td>\n",
              "      <td>...</td>\n",
              "      <td>...</td>\n",
              "      <td>...</td>\n",
              "    </tr>\n",
              "    <tr>\n",
              "      <th>195</th>\n",
              "      <td>56</td>\n",
              "      <td>F</td>\n",
              "      <td>LOW</td>\n",
              "      <td>HIGH</td>\n",
              "      <td>11.567</td>\n",
              "      <td>drugC</td>\n",
              "    </tr>\n",
              "    <tr>\n",
              "      <th>196</th>\n",
              "      <td>16</td>\n",
              "      <td>M</td>\n",
              "      <td>LOW</td>\n",
              "      <td>HIGH</td>\n",
              "      <td>12.006</td>\n",
              "      <td>drugC</td>\n",
              "    </tr>\n",
              "    <tr>\n",
              "      <th>197</th>\n",
              "      <td>52</td>\n",
              "      <td>M</td>\n",
              "      <td>NORMAL</td>\n",
              "      <td>HIGH</td>\n",
              "      <td>9.894</td>\n",
              "      <td>drugX</td>\n",
              "    </tr>\n",
              "    <tr>\n",
              "      <th>198</th>\n",
              "      <td>23</td>\n",
              "      <td>M</td>\n",
              "      <td>NORMAL</td>\n",
              "      <td>NORMAL</td>\n",
              "      <td>14.020</td>\n",
              "      <td>drugX</td>\n",
              "    </tr>\n",
              "    <tr>\n",
              "      <th>199</th>\n",
              "      <td>40</td>\n",
              "      <td>F</td>\n",
              "      <td>LOW</td>\n",
              "      <td>NORMAL</td>\n",
              "      <td>11.349</td>\n",
              "      <td>drugX</td>\n",
              "    </tr>\n",
              "  </tbody>\n",
              "</table>\n",
              "<p>200 rows × 6 columns</p>\n",
              "</div>\n",
              "    <div class=\"colab-df-buttons\">\n",
              "\n",
              "  <div class=\"colab-df-container\">\n",
              "    <button class=\"colab-df-convert\" onclick=\"convertToInteractive('df-ead57859-70c3-4870-86b6-86b39c934b65')\"\n",
              "            title=\"Convert this dataframe to an interactive table.\"\n",
              "            style=\"display:none;\">\n",
              "\n",
              "  <svg xmlns=\"http://www.w3.org/2000/svg\" height=\"24px\" viewBox=\"0 -960 960 960\">\n",
              "    <path d=\"M120-120v-720h720v720H120Zm60-500h600v-160H180v160Zm220 220h160v-160H400v160Zm0 220h160v-160H400v160ZM180-400h160v-160H180v160Zm440 0h160v-160H620v160ZM180-180h160v-160H180v160Zm440 0h160v-160H620v160Z\"/>\n",
              "  </svg>\n",
              "    </button>\n",
              "\n",
              "  <style>\n",
              "    .colab-df-container {\n",
              "      display:flex;\n",
              "      gap: 12px;\n",
              "    }\n",
              "\n",
              "    .colab-df-convert {\n",
              "      background-color: #E8F0FE;\n",
              "      border: none;\n",
              "      border-radius: 50%;\n",
              "      cursor: pointer;\n",
              "      display: none;\n",
              "      fill: #1967D2;\n",
              "      height: 32px;\n",
              "      padding: 0 0 0 0;\n",
              "      width: 32px;\n",
              "    }\n",
              "\n",
              "    .colab-df-convert:hover {\n",
              "      background-color: #E2EBFA;\n",
              "      box-shadow: 0px 1px 2px rgba(60, 64, 67, 0.3), 0px 1px 3px 1px rgba(60, 64, 67, 0.15);\n",
              "      fill: #174EA6;\n",
              "    }\n",
              "\n",
              "    .colab-df-buttons div {\n",
              "      margin-bottom: 4px;\n",
              "    }\n",
              "\n",
              "    [theme=dark] .colab-df-convert {\n",
              "      background-color: #3B4455;\n",
              "      fill: #D2E3FC;\n",
              "    }\n",
              "\n",
              "    [theme=dark] .colab-df-convert:hover {\n",
              "      background-color: #434B5C;\n",
              "      box-shadow: 0px 1px 3px 1px rgba(0, 0, 0, 0.15);\n",
              "      filter: drop-shadow(0px 1px 2px rgba(0, 0, 0, 0.3));\n",
              "      fill: #FFFFFF;\n",
              "    }\n",
              "  </style>\n",
              "\n",
              "    <script>\n",
              "      const buttonEl =\n",
              "        document.querySelector('#df-ead57859-70c3-4870-86b6-86b39c934b65 button.colab-df-convert');\n",
              "      buttonEl.style.display =\n",
              "        google.colab.kernel.accessAllowed ? 'block' : 'none';\n",
              "\n",
              "      async function convertToInteractive(key) {\n",
              "        const element = document.querySelector('#df-ead57859-70c3-4870-86b6-86b39c934b65');\n",
              "        const dataTable =\n",
              "          await google.colab.kernel.invokeFunction('convertToInteractive',\n",
              "                                                    [key], {});\n",
              "        if (!dataTable) return;\n",
              "\n",
              "        const docLinkHtml = 'Like what you see? Visit the ' +\n",
              "          '<a target=\"_blank\" href=https://colab.research.google.com/notebooks/data_table.ipynb>data table notebook</a>'\n",
              "          + ' to learn more about interactive tables.';\n",
              "        element.innerHTML = '';\n",
              "        dataTable['output_type'] = 'display_data';\n",
              "        await google.colab.output.renderOutput(dataTable, element);\n",
              "        const docLink = document.createElement('div');\n",
              "        docLink.innerHTML = docLinkHtml;\n",
              "        element.appendChild(docLink);\n",
              "      }\n",
              "    </script>\n",
              "  </div>\n",
              "\n",
              "\n",
              "<div id=\"df-9dee6568-d557-4718-8f1a-5ada2e14b1bb\">\n",
              "  <button class=\"colab-df-quickchart\" onclick=\"quickchart('df-9dee6568-d557-4718-8f1a-5ada2e14b1bb')\"\n",
              "            title=\"Suggest charts.\"\n",
              "            style=\"display:none;\">\n",
              "\n",
              "<svg xmlns=\"http://www.w3.org/2000/svg\" height=\"24px\"viewBox=\"0 0 24 24\"\n",
              "     width=\"24px\">\n",
              "    <g>\n",
              "        <path d=\"M19 3H5c-1.1 0-2 .9-2 2v14c0 1.1.9 2 2 2h14c1.1 0 2-.9 2-2V5c0-1.1-.9-2-2-2zM9 17H7v-7h2v7zm4 0h-2V7h2v10zm4 0h-2v-4h2v4z\"/>\n",
              "    </g>\n",
              "</svg>\n",
              "  </button>\n",
              "\n",
              "<style>\n",
              "  .colab-df-quickchart {\n",
              "      --bg-color: #E8F0FE;\n",
              "      --fill-color: #1967D2;\n",
              "      --hover-bg-color: #E2EBFA;\n",
              "      --hover-fill-color: #174EA6;\n",
              "      --disabled-fill-color: #AAA;\n",
              "      --disabled-bg-color: #DDD;\n",
              "  }\n",
              "\n",
              "  [theme=dark] .colab-df-quickchart {\n",
              "      --bg-color: #3B4455;\n",
              "      --fill-color: #D2E3FC;\n",
              "      --hover-bg-color: #434B5C;\n",
              "      --hover-fill-color: #FFFFFF;\n",
              "      --disabled-bg-color: #3B4455;\n",
              "      --disabled-fill-color: #666;\n",
              "  }\n",
              "\n",
              "  .colab-df-quickchart {\n",
              "    background-color: var(--bg-color);\n",
              "    border: none;\n",
              "    border-radius: 50%;\n",
              "    cursor: pointer;\n",
              "    display: none;\n",
              "    fill: var(--fill-color);\n",
              "    height: 32px;\n",
              "    padding: 0;\n",
              "    width: 32px;\n",
              "  }\n",
              "\n",
              "  .colab-df-quickchart:hover {\n",
              "    background-color: var(--hover-bg-color);\n",
              "    box-shadow: 0 1px 2px rgba(60, 64, 67, 0.3), 0 1px 3px 1px rgba(60, 64, 67, 0.15);\n",
              "    fill: var(--button-hover-fill-color);\n",
              "  }\n",
              "\n",
              "  .colab-df-quickchart-complete:disabled,\n",
              "  .colab-df-quickchart-complete:disabled:hover {\n",
              "    background-color: var(--disabled-bg-color);\n",
              "    fill: var(--disabled-fill-color);\n",
              "    box-shadow: none;\n",
              "  }\n",
              "\n",
              "  .colab-df-spinner {\n",
              "    border: 2px solid var(--fill-color);\n",
              "    border-color: transparent;\n",
              "    border-bottom-color: var(--fill-color);\n",
              "    animation:\n",
              "      spin 1s steps(1) infinite;\n",
              "  }\n",
              "\n",
              "  @keyframes spin {\n",
              "    0% {\n",
              "      border-color: transparent;\n",
              "      border-bottom-color: var(--fill-color);\n",
              "      border-left-color: var(--fill-color);\n",
              "    }\n",
              "    20% {\n",
              "      border-color: transparent;\n",
              "      border-left-color: var(--fill-color);\n",
              "      border-top-color: var(--fill-color);\n",
              "    }\n",
              "    30% {\n",
              "      border-color: transparent;\n",
              "      border-left-color: var(--fill-color);\n",
              "      border-top-color: var(--fill-color);\n",
              "      border-right-color: var(--fill-color);\n",
              "    }\n",
              "    40% {\n",
              "      border-color: transparent;\n",
              "      border-right-color: var(--fill-color);\n",
              "      border-top-color: var(--fill-color);\n",
              "    }\n",
              "    60% {\n",
              "      border-color: transparent;\n",
              "      border-right-color: var(--fill-color);\n",
              "    }\n",
              "    80% {\n",
              "      border-color: transparent;\n",
              "      border-right-color: var(--fill-color);\n",
              "      border-bottom-color: var(--fill-color);\n",
              "    }\n",
              "    90% {\n",
              "      border-color: transparent;\n",
              "      border-bottom-color: var(--fill-color);\n",
              "    }\n",
              "  }\n",
              "</style>\n",
              "\n",
              "  <script>\n",
              "    async function quickchart(key) {\n",
              "      const quickchartButtonEl =\n",
              "        document.querySelector('#' + key + ' button');\n",
              "      quickchartButtonEl.disabled = true;  // To prevent multiple clicks.\n",
              "      quickchartButtonEl.classList.add('colab-df-spinner');\n",
              "      try {\n",
              "        const charts = await google.colab.kernel.invokeFunction(\n",
              "            'suggestCharts', [key], {});\n",
              "      } catch (error) {\n",
              "        console.error('Error during call to suggestCharts:', error);\n",
              "      }\n",
              "      quickchartButtonEl.classList.remove('colab-df-spinner');\n",
              "      quickchartButtonEl.classList.add('colab-df-quickchart-complete');\n",
              "    }\n",
              "    (() => {\n",
              "      let quickchartButtonEl =\n",
              "        document.querySelector('#df-9dee6568-d557-4718-8f1a-5ada2e14b1bb button');\n",
              "      quickchartButtonEl.style.display =\n",
              "        google.colab.kernel.accessAllowed ? 'block' : 'none';\n",
              "    })();\n",
              "  </script>\n",
              "</div>\n",
              "    </div>\n",
              "  </div>\n"
            ]
          },
          "metadata": {},
          "execution_count": 346
        }
      ]
    },
    {
      "cell_type": "markdown",
      "source": [
        "**Balanceando a Base**"
      ],
      "metadata": {
        "id": "5sfYYf-hJa1B"
      }
    },
    {
      "cell_type": "code",
      "source": [
        "sampling_strategy = {\n",
        "    'drugA': 23,\n",
        "    'drugB': 16,\n",
        "    'drugC': 16,\n",
        "    'drugX': 35,\n",
        "    'drugY': 40\n",
        "}\n",
        "\n",
        "rus = RandomUnderSampler(sampling_strategy=sampling_strategy, random_state=0)\n",
        "X_prev = base.iloc[:, 0:5].values\n",
        "y_classe = base.iloc[:, 5].values\n",
        "\n",
        "X_prev, y_classe = rus.fit_resample(X_prev, y_classe)"
      ],
      "metadata": {
        "id": "6ENc7yB6JENi"
      },
      "execution_count": null,
      "outputs": []
    },
    {
      "cell_type": "code",
      "source": [
        "X_prev"
      ],
      "metadata": {
        "colab": {
          "base_uri": "https://localhost:8080/"
        },
        "id": "ZyUuUjGNKdUf",
        "outputId": "bf0bd877-f508-49d4-8958-669e2721edd2"
      },
      "execution_count": null,
      "outputs": [
        {
          "output_type": "execute_result",
          "data": {
            "text/plain": [
              "array([[32, 'F', 'HIGH', 'NORMAL', 10.292],\n",
              "       [50, 'M', 'HIGH', 'HIGH', 7.49],\n",
              "       [47, 'M', 'HIGH', 'HIGH', 10.403],\n",
              "       [39, 'M', 'HIGH', 'HIGH', 9.664],\n",
              "       [48, 'M', 'HIGH', 'NORMAL', 10.446],\n",
              "       [32, 'M', 'HIGH', 'NORMAL', 9.445],\n",
              "       [49, 'M', 'HIGH', 'NORMAL', 6.269],\n",
              "       [23, 'M', 'HIGH', 'HIGH', 8.011],\n",
              "       [49, 'M', 'HIGH', 'NORMAL', 8.7],\n",
              "       [31, 'M', 'HIGH', 'NORMAL', 11.871],\n",
              "       [19, 'F', 'HIGH', 'HIGH', 13.313],\n",
              "       [31, 'M', 'HIGH', 'NORMAL', 11.227],\n",
              "       [29, 'M', 'HIGH', 'HIGH', 12.856],\n",
              "       [37, 'F', 'HIGH', 'HIGH', 13.091],\n",
              "       [36, 'F', 'HIGH', 'HIGH', 11.198],\n",
              "       [20, 'F', 'HIGH', 'HIGH', 11.262],\n",
              "       [45, 'F', 'HIGH', 'HIGH', 12.854],\n",
              "       [38, 'F', 'HIGH', 'NORMAL', 11.326],\n",
              "       [42, 'M', 'HIGH', 'NORMAL', 12.766],\n",
              "       [24, 'M', 'HIGH', 'NORMAL', 9.475],\n",
              "       [43, 'M', 'HIGH', 'HIGH', 13.972],\n",
              "       [26, 'F', 'HIGH', 'NORMAL', 12.307],\n",
              "       [35, 'F', 'HIGH', 'HIGH', 12.894],\n",
              "       [60, 'M', 'HIGH', 'NORMAL', 8.621],\n",
              "       [57, 'F', 'HIGH', 'NORMAL', 9.945],\n",
              "       [58, 'F', 'HIGH', 'NORMAL', 14.239],\n",
              "       [59, 'M', 'HIGH', 'HIGH', 13.935],\n",
              "       [70, 'M', 'HIGH', 'HIGH', 9.849],\n",
              "       [68, 'F', 'HIGH', 'NORMAL', 10.189],\n",
              "       [55, 'F', 'HIGH', 'HIGH', 10.977],\n",
              "       [60, 'M', 'HIGH', 'HIGH', 13.934],\n",
              "       [70, 'M', 'HIGH', 'HIGH', 13.967],\n",
              "       [51, 'M', 'HIGH', 'NORMAL', 11.343],\n",
              "       [74, 'M', 'HIGH', 'HIGH', 9.567],\n",
              "       [65, 'M', 'HIGH', 'NORMAL', 11.34],\n",
              "       [60, 'F', 'HIGH', 'HIGH', 13.303],\n",
              "       [53, 'F', 'HIGH', 'NORMAL', 12.495],\n",
              "       [72, 'M', 'HIGH', 'NORMAL', 9.677],\n",
              "       [68, 'M', 'HIGH', 'HIGH', 11.009],\n",
              "       [47, 'F', 'LOW', 'HIGH', 10.067],\n",
              "       [22, 'M', 'LOW', 'HIGH', 8.151],\n",
              "       [68, 'M', 'LOW', 'HIGH', 10.291],\n",
              "       [26, 'F', 'LOW', 'HIGH', 14.16],\n",
              "       [16, 'M', 'LOW', 'HIGH', 12.006],\n",
              "       [23, 'M', 'LOW', 'HIGH', 7.298],\n",
              "       [41, 'M', 'LOW', 'HIGH', 11.037],\n",
              "       [59, 'F', 'LOW', 'HIGH', 10.444],\n",
              "       [49, 'M', 'LOW', 'HIGH', 10.537],\n",
              "       [28, 'F', 'LOW', 'HIGH', 13.127],\n",
              "       [47, 'M', 'LOW', 'HIGH', 10.114],\n",
              "       [47, 'M', 'LOW', 'HIGH', 13.093],\n",
              "       [32, 'F', 'LOW', 'HIGH', 9.712],\n",
              "       [56, 'F', 'LOW', 'HIGH', 11.567],\n",
              "       [47, 'F', 'LOW', 'HIGH', 11.767],\n",
              "       [72, 'M', 'LOW', 'HIGH', 6.769],\n",
              "       [22, 'M', 'NORMAL', 'HIGH', 11.953],\n",
              "       [36, 'M', 'LOW', 'NORMAL', 11.424],\n",
              "       [50, 'F', 'NORMAL', 'HIGH', 12.703],\n",
              "       [59, 'F', 'NORMAL', 'HIGH', 13.884],\n",
              "       [24, 'F', 'NORMAL', 'HIGH', 10.605],\n",
              "       [43, 'M', 'NORMAL', 'NORMAL', 12.859],\n",
              "       [60, 'M', 'NORMAL', 'NORMAL', 10.091],\n",
              "       [39, 'M', 'LOW', 'NORMAL', 13.938],\n",
              "       [40, 'F', 'LOW', 'NORMAL', 11.349],\n",
              "       [37, 'F', 'LOW', 'NORMAL', 12.006],\n",
              "       [23, 'M', 'NORMAL', 'NORMAL', 14.02],\n",
              "       [64, 'M', 'NORMAL', 'HIGH', 7.761],\n",
              "       [45, 'M', 'LOW', 'NORMAL', 10.017],\n",
              "       [50, 'F', 'NORMAL', 'NORMAL', 12.295],\n",
              "       [53, 'M', 'NORMAL', 'HIGH', 14.133],\n",
              "       [20, 'F', 'NORMAL', 'NORMAL', 9.281],\n",
              "       [51, 'F', 'NORMAL', 'HIGH', 13.597],\n",
              "       [56, 'M', 'NORMAL', 'HIGH', 8.966],\n",
              "       [35, 'M', 'NORMAL', 'NORMAL', 7.845],\n",
              "       [46, 'M', 'NORMAL', 'NORMAL', 7.285],\n",
              "       [72, 'F', 'LOW', 'NORMAL', 14.642],\n",
              "       [40, 'F', 'NORMAL', 'HIGH', 10.103],\n",
              "       [69, 'M', 'LOW', 'NORMAL', 11.455],\n",
              "       [65, 'F', 'LOW', 'NORMAL', 13.769],\n",
              "       [30, 'F', 'NORMAL', 'HIGH', 10.443],\n",
              "       [28, 'F', 'NORMAL', 'HIGH', 12.879],\n",
              "       [49, 'M', 'LOW', 'NORMAL', 11.014],\n",
              "       [34, 'F', 'LOW', 'NORMAL', 12.923],\n",
              "       [69, 'F', 'NORMAL', 'HIGH', 10.065],\n",
              "       [32, 'F', 'LOW', 'NORMAL', 10.84],\n",
              "       [39, 'F', 'NORMAL', 'NORMAL', 9.709],\n",
              "       [37, 'M', 'LOW', 'NORMAL', 8.968],\n",
              "       [23, 'M', 'NORMAL', 'HIGH', 12.26],\n",
              "       [66, 'F', 'NORMAL', 'NORMAL', 8.107],\n",
              "       [20, 'F', 'LOW', 'NORMAL', 11.686],\n",
              "       [28, 'F', 'HIGH', 'NORMAL', 18.809],\n",
              "       [58, 'F', 'LOW', 'HIGH', 26.645],\n",
              "       [38, 'F', 'LOW', 'NORMAL', 29.875],\n",
              "       [52, 'M', 'LOW', 'NORMAL', 32.922],\n",
              "       [47, 'M', 'LOW', 'NORMAL', 30.568],\n",
              "       [21, 'F', 'HIGH', 'NORMAL', 28.632],\n",
              "       [45, 'M', 'LOW', 'HIGH', 17.951],\n",
              "       [23, 'M', 'NORMAL', 'HIGH', 16.85],\n",
              "       [39, 'F', 'LOW', 'NORMAL', 22.697],\n",
              "       [74, 'F', 'LOW', 'HIGH', 20.942],\n",
              "       [34, 'F', 'HIGH', 'NORMAL', 19.199],\n",
              "       [43, 'M', 'LOW', 'HIGH', 15.376],\n",
              "       [32, 'F', 'HIGH', 'NORMAL', 25.974],\n",
              "       [16, 'M', 'HIGH', 'NORMAL', 19.007],\n",
              "       [25, 'M', 'NORMAL', 'HIGH', 19.011],\n",
              "       [39, 'F', 'NORMAL', 'NORMAL', 17.225],\n",
              "       [26, 'M', 'LOW', 'NORMAL', 20.909],\n",
              "       [42, 'F', 'HIGH', 'HIGH', 21.036],\n",
              "       [61, 'F', 'LOW', 'HIGH', 18.043],\n",
              "       [51, 'F', 'LOW', 'NORMAL', 23.003],\n",
              "       [28, 'M', 'NORMAL', 'HIGH', 27.064],\n",
              "       [57, 'F', 'NORMAL', 'NORMAL', 25.893],\n",
              "       [15, 'M', 'HIGH', 'NORMAL', 17.206],\n",
              "       [53, 'M', 'LOW', 'HIGH', 22.963],\n",
              "       [62, 'M', 'LOW', 'NORMAL', 27.183],\n",
              "       [34, 'M', 'HIGH', 'HIGH', 18.703],\n",
              "       [70, 'F', 'NORMAL', 'HIGH', 20.489],\n",
              "       [19, 'F', 'HIGH', 'NORMAL', 25.969],\n",
              "       [74, 'M', 'HIGH', 'NORMAL', 15.436],\n",
              "       [18, 'F', 'HIGH', 'NORMAL', 24.276],\n",
              "       [43, 'M', 'LOW', 'NORMAL', 19.368],\n",
              "       [61, 'F', 'HIGH', 'HIGH', 25.475],\n",
              "       [37, 'M', 'LOW', 'NORMAL', 16.724],\n",
              "       [29, 'F', 'HIGH', 'HIGH', 29.45],\n",
              "       [42, 'F', 'LOW', 'NORMAL', 29.271],\n",
              "       [24, 'F', 'HIGH', 'NORMAL', 18.457],\n",
              "       [69, 'M', 'LOW', 'HIGH', 15.478],\n",
              "       [68, 'F', 'NORMAL', 'NORMAL', 27.05],\n",
              "       [42, 'M', 'LOW', 'HIGH', 20.013],\n",
              "       [16, 'F', 'HIGH', 'NORMAL', 15.516]], dtype=object)"
            ]
          },
          "metadata": {},
          "execution_count": 348
        }
      ]
    },
    {
      "cell_type": "markdown",
      "source": [
        "**Contando quantidade de instâncias**\n"
      ],
      "metadata": {
        "id": "nnxpN2abg5eN"
      }
    },
    {
      "cell_type": "code",
      "source": [
        "np.unique(y_classe, return_counts=True)"
      ],
      "metadata": {
        "id": "xgR2Os49WO3d",
        "colab": {
          "base_uri": "https://localhost:8080/"
        },
        "outputId": "fd5c72e0-13ce-4f63-9977-e652a3cfc869"
      },
      "execution_count": null,
      "outputs": [
        {
          "output_type": "execute_result",
          "data": {
            "text/plain": [
              "(array(['drugA', 'drugB', 'drugC', 'drugX', 'drugY'], dtype=object),\n",
              " array([23, 16, 16, 35, 40]))"
            ]
          },
          "metadata": {},
          "execution_count": 349
        }
      ]
    },
    {
      "cell_type": "markdown",
      "source": [
        "**Plotando gráfico antes e depois do Balanceamento**"
      ],
      "metadata": {
        "id": "090tcOkxLLhD"
      }
    },
    {
      "cell_type": "markdown",
      "source": [
        "**Antes:**"
      ],
      "metadata": {
        "id": "5AzVO6Q_LabM"
      }
    },
    {
      "cell_type": "code",
      "source": [
        "sns.countplot(x = base['Drug'], order=unique_values);"
      ],
      "metadata": {
        "colab": {
          "base_uri": "https://localhost:8080/",
          "height": 503
        },
        "id": "lymnfAkbLSuM",
        "outputId": "1dbd061b-cd53-46c2-e52b-ee354ee4c5d0"
      },
      "execution_count": null,
      "outputs": [
        {
          "output_type": "display_data",
          "data": {
            "text/plain": [
              "<Figure size 800x550 with 1 Axes>"
            ],
            "image/png": "[encoded data removed]"
          },
          "metadata": {}
        }
      ]
    },
    {
      "cell_type": "markdown",
      "source": [
        "**Depois:**"
      ],
      "metadata": {
        "id": "4KMOt1w9Lgtj"
      }
    },
    {
      "cell_type": "code",
      "source": [
        "sns.countplot(x = y_classe, order=unique_values)"
      ],
      "metadata": {
        "id": "n-DOy3oXXG4N",
        "colab": {
          "base_uri": "https://localhost:8080/",
          "height": 501
        },
        "outputId": "a9b19603-d52f-407d-a373-401b3cd39c42"
      },
      "execution_count": null,
      "outputs": [
        {
          "output_type": "execute_result",
          "data": {
            "text/plain": [
              "<Axes: ylabel='count'>"
            ]
          },
          "metadata": {},
          "execution_count": 351
        },
        {
          "output_type": "display_data",
          "data": {
            "text/plain": [
              "<Figure size 800x550 with 1 Axes>"
            ],
            "image/png": "[encoded data removed]"
          },
          "metadata": {}
        }
      ]
    },
    {
      "cell_type": "markdown",
      "source": [
        "**Separando os atributos de entrada e de classe**"
      ],
      "metadata": {
        "id": "MYJpg6Q8hH8i"
      }
    },
    {
      "cell_type": "code",
      "source": [
        "X_prev_label = base.iloc[:, 0:5]"
      ],
      "metadata": {
        "id": "35DXGBG46LQ1"
      },
      "execution_count": null,
      "outputs": []
    },
    {
      "cell_type": "code",
      "source": [
        "X_prev_label"
      ],
      "metadata": {
        "id": "IOfUln-yf13F",
        "colab": {
          "base_uri": "https://localhost:8080/",
          "height": 424
        },
        "outputId": "3c0dffe1-d158-4c4f-c0a2-8c2a35ed0f6d"
      },
      "execution_count": null,
      "outputs": [
        {
          "output_type": "execute_result",
          "data": {
            "text/plain": [
              "     Age Sex      BP Cholesterol  Na_to_K\n",
              "0     23   F    HIGH        HIGH   25.355\n",
              "1     47   M     LOW        HIGH   13.093\n",
              "2     47   M     LOW        HIGH   10.114\n",
              "3     28   F  NORMAL        HIGH    7.798\n",
              "4     61   F     LOW        HIGH   18.043\n",
              "..   ...  ..     ...         ...      ...\n",
              "195   56   F     LOW        HIGH   11.567\n",
              "196   16   M     LOW        HIGH   12.006\n",
              "197   52   M  NORMAL        HIGH    9.894\n",
              "198   23   M  NORMAL      NORMAL   14.020\n",
              "199   40   F     LOW      NORMAL   11.349\n",
              "\n",
              "[200 rows x 5 columns]"
            ],
            "text/html": [
              "\n",
              "  <div id=\"df-b6ccd174-22f5-47a3-8ec5-da45cb50137d\" class=\"colab-df-container\">\n",
              "    <div>\n",
              "<style scoped>\n",
              "    .dataframe tbody tr th:only-of-type {\n",
              "        vertical-align: middle;\n",
              "    }\n",
              "\n",
              "    .dataframe tbody tr th {\n",
              "        vertical-align: top;\n",
              "    }\n",
              "\n",
              "    .dataframe thead th {\n",
              "        text-align: right;\n",
              "    }\n",
              "</style>\n",
              "<table border=\"1\" class=\"dataframe\">\n",
              "  <thead>\n",
              "    <tr style=\"text-align: right;\">\n",
              "      <th></th>\n",
              "      <th>Age</th>\n",
              "      <th>Sex</th>\n",
              "      <th>BP</th>\n",
              "      <th>Cholesterol</th>\n",
              "      <th>Na_to_K</th>\n",
              "    </tr>\n",
              "  </thead>\n",
              "  <tbody>\n",
              "    <tr>\n",
              "      <th>0</th>\n",
              "      <td>23</td>\n",
              "      <td>F</td>\n",
              "      <td>HIGH</td>\n",
              "      <td>HIGH</td>\n",
              "      <td>25.355</td>\n",
              "    </tr>\n",
              "    <tr>\n",
              "      <th>1</th>\n",
              "      <td>47</td>\n",
              "      <td>M</td>\n",
              "      <td>LOW</td>\n",
              "      <td>HIGH</td>\n",
              "      <td>13.093</td>\n",
              "    </tr>\n",
              "    <tr>\n",
              "      <th>2</th>\n",
              "      <td>47</td>\n",
              "      <td>M</td>\n",
              "      <td>LOW</td>\n",
              "      <td>HIGH</td>\n",
              "      <td>10.114</td>\n",
              "    </tr>\n",
              "    <tr>\n",
              "      <th>3</th>\n",
              "      <td>28</td>\n",
              "      <td>F</td>\n",
              "      <td>NORMAL</td>\n",
              "      <td>HIGH</td>\n",
              "      <td>7.798</td>\n",
              "    </tr>\n",
              "    <tr>\n",
              "      <th>4</th>\n",
              "      <td>61</td>\n",
              "      <td>F</td>\n",
              "      <td>LOW</td>\n",
              "      <td>HIGH</td>\n",
              "      <td>18.043</td>\n",
              "    </tr>\n",
              "    <tr>\n",
              "      <th>...</th>\n",
              "      <td>...</td>\n",
              "      <td>...</td>\n",
              "      <td>...</td>\n",
              "      <td>...</td>\n",
              "      <td>...</td>\n",
              "    </tr>\n",
              "    <tr>\n",
              "      <th>195</th>\n",
              "      <td>56</td>\n",
              "      <td>F</td>\n",
              "      <td>LOW</td>\n",
              "      <td>HIGH</td>\n",
              "      <td>11.567</td>\n",
              "    </tr>\n",
              "    <tr>\n",
              "      <th>196</th>\n",
              "      <td>16</td>\n",
              "      <td>M</td>\n",
              "      <td>LOW</td>\n",
              "      <td>HIGH</td>\n",
              "      <td>12.006</td>\n",
              "    </tr>\n",
              "    <tr>\n",
              "      <th>197</th>\n",
              "      <td>52</td>\n",
              "      <td>M</td>\n",
              "      <td>NORMAL</td>\n",
              "      <td>HIGH</td>\n",
              "      <td>9.894</td>\n",
              "    </tr>\n",
              "    <tr>\n",
              "      <th>198</th>\n",
              "      <td>23</td>\n",
              "      <td>M</td>\n",
              "      <td>NORMAL</td>\n",
              "      <td>NORMAL</td>\n",
              "      <td>14.020</td>\n",
              "    </tr>\n",
              "    <tr>\n",
              "      <th>199</th>\n",
              "      <td>40</td>\n",
              "      <td>F</td>\n",
              "      <td>LOW</td>\n",
              "      <td>NORMAL</td>\n",
              "      <td>11.349</td>\n",
              "    </tr>\n",
              "  </tbody>\n",
              "</table>\n",
              "<p>200 rows × 5 columns</p>\n",
              "</div>\n",
              "    <div class=\"colab-df-buttons\">\n",
              "\n",
              "  <div class=\"colab-df-container\">\n",
              "    <button class=\"colab-df-convert\" onclick=\"convertToInteractive('df-b6ccd174-22f5-47a3-8ec5-da45cb50137d')\"\n",
              "            title=\"Convert this dataframe to an interactive table.\"\n",
              "            style=\"display:none;\">\n",
              "\n",
              "  <svg xmlns=\"http://www.w3.org/2000/svg\" height=\"24px\" viewBox=\"0 -960 960 960\">\n",
              "    <path d=\"M120-120v-720h720v720H120Zm60-500h600v-160H180v160Zm220 220h160v-160H400v160Zm0 220h160v-160H400v160ZM180-400h160v-160H180v160Zm440 0h160v-160H620v160ZM180-180h160v-160H180v160Zm440 0h160v-160H620v160Z\"/>\n",
              "  </svg>\n",
              "    </button>\n",
              "\n",
              "  <style>\n",
              "    .colab-df-container {\n",
              "      display:flex;\n",
              "      gap: 12px;\n",
              "    }\n",
              "\n",
              "    .colab-df-convert {\n",
              "      background-color: #E8F0FE;\n",
              "      border: none;\n",
              "      border-radius: 50%;\n",
              "      cursor: pointer;\n",
              "      display: none;\n",
              "      fill: #1967D2;\n",
              "      height: 32px;\n",
              "      padding: 0 0 0 0;\n",
              "      width: 32px;\n",
              "    }\n",
              "\n",
              "    .colab-df-convert:hover {\n",
              "      background-color: #E2EBFA;\n",
              "      box-shadow: 0px 1px 2px rgba(60, 64, 67, 0.3), 0px 1px 3px 1px rgba(60, 64, 67, 0.15);\n",
              "      fill: #174EA6;\n",
              "    }\n",
              "\n",
              "    .colab-df-buttons div {\n",
              "      margin-bottom: 4px;\n",
              "    }\n",
              "\n",
              "    [theme=dark] .colab-df-convert {\n",
              "      background-color: #3B4455;\n",
              "      fill: #D2E3FC;\n",
              "    }\n",
              "\n",
              "    [theme=dark] .colab-df-convert:hover {\n",
              "      background-color: #434B5C;\n",
              "      box-shadow: 0px 1px 3px 1px rgba(0, 0, 0, 0.15);\n",
              "      filter: drop-shadow(0px 1px 2px rgba(0, 0, 0, 0.3));\n",
              "      fill: #FFFFFF;\n",
              "    }\n",
              "  </style>\n",
              "\n",
              "    <script>\n",
              "      const buttonEl =\n",
              "        document.querySelector('#df-b6ccd174-22f5-47a3-8ec5-da45cb50137d button.colab-df-convert');\n",
              "      buttonEl.style.display =\n",
              "        google.colab.kernel.accessAllowed ? 'block' : 'none';\n",
              "\n",
              "      async function convertToInteractive(key) {\n",
              "        const element = document.querySelector('#df-b6ccd174-22f5-47a3-8ec5-da45cb50137d');\n",
              "        const dataTable =\n",
              "          await google.colab.kernel.invokeFunction('convertToInteractive',\n",
              "                                                    [key], {});\n",
              "        if (!dataTable) return;\n",
              "\n",
              "        const docLinkHtml = 'Like what you see? Visit the ' +\n",
              "          '<a target=\"_blank\" href=https://colab.research.google.com/notebooks/data_table.ipynb>data table notebook</a>'\n",
              "          + ' to learn more about interactive tables.';\n",
              "        element.innerHTML = '';\n",
              "        dataTable['output_type'] = 'display_data';\n",
              "        await google.colab.output.renderOutput(dataTable, element);\n",
              "        const docLink = document.createElement('div');\n",
              "        docLink.innerHTML = docLinkHtml;\n",
              "        element.appendChild(docLink);\n",
              "      }\n",
              "    </script>\n",
              "  </div>\n",
              "\n",
              "\n",
              "<div id=\"df-ad42dc89-eb40-4f9f-9f50-d0411d48763f\">\n",
              "  <button class=\"colab-df-quickchart\" onclick=\"quickchart('df-ad42dc89-eb40-4f9f-9f50-d0411d48763f')\"\n",
              "            title=\"Suggest charts.\"\n",
              "            style=\"display:none;\">\n",
              "\n",
              "<svg xmlns=\"http://www.w3.org/2000/svg\" height=\"24px\"viewBox=\"0 0 24 24\"\n",
              "     width=\"24px\">\n",
              "    <g>\n",
              "        <path d=\"M19 3H5c-1.1 0-2 .9-2 2v14c0 1.1.9 2 2 2h14c1.1 0 2-.9 2-2V5c0-1.1-.9-2-2-2zM9 17H7v-7h2v7zm4 0h-2V7h2v10zm4 0h-2v-4h2v4z\"/>\n",
              "    </g>\n",
              "</svg>\n",
              "  </button>\n",
              "\n",
              "<style>\n",
              "  .colab-df-quickchart {\n",
              "      --bg-color: #E8F0FE;\n",
              "      --fill-color: #1967D2;\n",
              "      --hover-bg-color: #E2EBFA;\n",
              "      --hover-fill-color: #174EA6;\n",
              "      --disabled-fill-color: #AAA;\n",
              "      --disabled-bg-color: #DDD;\n",
              "  }\n",
              "\n",
              "  [theme=dark] .colab-df-quickchart {\n",
              "      --bg-color: #3B4455;\n",
              "      --fill-color: #D2E3FC;\n",
              "      --hover-bg-color: #434B5C;\n",
              "      --hover-fill-color: #FFFFFF;\n",
              "      --disabled-bg-color: #3B4455;\n",
              "      --disabled-fill-color: #666;\n",
              "  }\n",
              "\n",
              "  .colab-df-quickchart {\n",
              "    background-color: var(--bg-color);\n",
              "    border: none;\n",
              "    border-radius: 50%;\n",
              "    cursor: pointer;\n",
              "    display: none;\n",
              "    fill: var(--fill-color);\n",
              "    height: 32px;\n",
              "    padding: 0;\n",
              "    width: 32px;\n",
              "  }\n",
              "\n",
              "  .colab-df-quickchart:hover {\n",
              "    background-color: var(--hover-bg-color);\n",
              "    box-shadow: 0 1px 2px rgba(60, 64, 67, 0.3), 0 1px 3px 1px rgba(60, 64, 67, 0.15);\n",
              "    fill: var(--button-hover-fill-color);\n",
              "  }\n",
              "\n",
              "  .colab-df-quickchart-complete:disabled,\n",
              "  .colab-df-quickchart-complete:disabled:hover {\n",
              "    background-color: var(--disabled-bg-color);\n",
              "    fill: var(--disabled-fill-color);\n",
              "    box-shadow: none;\n",
              "  }\n",
              "\n",
              "  .colab-df-spinner {\n",
              "    border: 2px solid var(--fill-color);\n",
              "    border-color: transparent;\n",
              "    border-bottom-color: var(--fill-color);\n",
              "    animation:\n",
              "      spin 1s steps(1) infinite;\n",
              "  }\n",
              "\n",
              "  @keyframes spin {\n",
              "    0% {\n",
              "      border-color: transparent;\n",
              "      border-bottom-color: var(--fill-color);\n",
              "      border-left-color: var(--fill-color);\n",
              "    }\n",
              "    20% {\n",
              "      border-color: transparent;\n",
              "      border-left-color: var(--fill-color);\n",
              "      border-top-color: var(--fill-color);\n",
              "    }\n",
              "    30% {\n",
              "      border-color: transparent;\n",
              "      border-left-color: var(--fill-color);\n",
              "      border-top-color: var(--fill-color);\n",
              "      border-right-color: var(--fill-color);\n",
              "    }\n",
              "    40% {\n",
              "      border-color: transparent;\n",
              "      border-right-color: var(--fill-color);\n",
              "      border-top-color: var(--fill-color);\n",
              "    }\n",
              "    60% {\n",
              "      border-color: transparent;\n",
              "      border-right-color: var(--fill-color);\n",
              "    }\n",
              "    80% {\n",
              "      border-color: transparent;\n",
              "      border-right-color: var(--fill-color);\n",
              "      border-bottom-color: var(--fill-color);\n",
              "    }\n",
              "    90% {\n",
              "      border-color: transparent;\n",
              "      border-bottom-color: var(--fill-color);\n",
              "    }\n",
              "  }\n",
              "</style>\n",
              "\n",
              "  <script>\n",
              "    async function quickchart(key) {\n",
              "      const quickchartButtonEl =\n",
              "        document.querySelector('#' + key + ' button');\n",
              "      quickchartButtonEl.disabled = true;  // To prevent multiple clicks.\n",
              "      quickchartButtonEl.classList.add('colab-df-spinner');\n",
              "      try {\n",
              "        const charts = await google.colab.kernel.invokeFunction(\n",
              "            'suggestCharts', [key], {});\n",
              "      } catch (error) {\n",
              "        console.error('Error during call to suggestCharts:', error);\n",
              "      }\n",
              "      quickchartButtonEl.classList.remove('colab-df-spinner');\n",
              "      quickchartButtonEl.classList.add('colab-df-quickchart-complete');\n",
              "    }\n",
              "    (() => {\n",
              "      let quickchartButtonEl =\n",
              "        document.querySelector('#df-ad42dc89-eb40-4f9f-9f50-d0411d48763f button');\n",
              "      quickchartButtonEl.style.display =\n",
              "        google.colab.kernel.accessAllowed ? 'block' : 'none';\n",
              "    })();\n",
              "  </script>\n",
              "</div>\n",
              "    </div>\n",
              "  </div>\n"
            ]
          },
          "metadata": {},
          "execution_count": 353
        }
      ]
    },
    {
      "cell_type": "code",
      "source": [
        "y_classe"
      ],
      "metadata": {
        "colab": {
          "base_uri": "https://localhost:8080/"
        },
        "id": "XFnwVWk2hYzj",
        "outputId": "c24bbe2d-de18-4d2d-8a6a-592bdc0db19f"
      },
      "execution_count": null,
      "outputs": [
        {
          "output_type": "execute_result",
          "data": {
            "text/plain": [
              "array(['drugA', 'drugA', 'drugA', 'drugA', 'drugA', 'drugA', 'drugA',\n",
              "       'drugA', 'drugA', 'drugA', 'drugA', 'drugA', 'drugA', 'drugA',\n",
              "       'drugA', 'drugA', 'drugA', 'drugA', 'drugA', 'drugA', 'drugA',\n",
              "       'drugA', 'drugA', 'drugB', 'drugB', 'drugB', 'drugB', 'drugB',\n",
              "       'drugB', 'drugB', 'drugB', 'drugB', 'drugB', 'drugB', 'drugB',\n",
              "       'drugB', 'drugB', 'drugB', 'drugB', 'drugC', 'drugC', 'drugC',\n",
              "       'drugC', 'drugC', 'drugC', 'drugC', 'drugC', 'drugC', 'drugC',\n",
              "       'drugC', 'drugC', 'drugC', 'drugC', 'drugC', 'drugC', 'drugX',\n",
              "       'drugX', 'drugX', 'drugX', 'drugX', 'drugX', 'drugX', 'drugX',\n",
              "       'drugX', 'drugX', 'drugX', 'drugX', 'drugX', 'drugX', 'drugX',\n",
              "       'drugX', 'drugX', 'drugX', 'drugX', 'drugX', 'drugX', 'drugX',\n",
              "       'drugX', 'drugX', 'drugX', 'drugX', 'drugX', 'drugX', 'drugX',\n",
              "       'drugX', 'drugX', 'drugX', 'drugX', 'drugX', 'drugX', 'drugY',\n",
              "       'drugY', 'drugY', 'drugY', 'drugY', 'drugY', 'drugY', 'drugY',\n",
              "       'drugY', 'drugY', 'drugY', 'drugY', 'drugY', 'drugY', 'drugY',\n",
              "       'drugY', 'drugY', 'drugY', 'drugY', 'drugY', 'drugY', 'drugY',\n",
              "       'drugY', 'drugY', 'drugY', 'drugY', 'drugY', 'drugY', 'drugY',\n",
              "       'drugY', 'drugY', 'drugY', 'drugY', 'drugY', 'drugY', 'drugY',\n",
              "       'drugY', 'drugY', 'drugY', 'drugY'], dtype=object)"
            ]
          },
          "metadata": {},
          "execution_count": 354
        }
      ]
    },
    {
      "cell_type": "markdown",
      "source": [
        "**Tratamento de dados categóricos**"
      ],
      "metadata": {
        "id": "xeaEnJuOij1V"
      }
    },
    {
      "cell_type": "markdown",
      "source": [
        "> *LabelEncoder - Vamos tratar os dados categóricos colocando 1, 2, 3 e etc**\n",
        "\n"
      ],
      "metadata": {
        "id": "3lW1I_-TiwUi"
      }
    },
    {
      "cell_type": "code",
      "source": [
        "from sklearn.preprocessing import LabelEncoder\n",
        "from sklearn.preprocessing import OrdinalEncoder"
      ],
      "metadata": {
        "id": "bJftEzSbiorG"
      },
      "execution_count": null,
      "outputs": []
    },
    {
      "cell_type": "code",
      "source": [
        "label_encoder = LabelEncoder()"
      ],
      "metadata": {
        "id": "zQDx5oLrjMCZ"
      },
      "execution_count": null,
      "outputs": []
    },
    {
      "cell_type": "code",
      "source": [
        "X_prev[:,0]"
      ],
      "metadata": {
        "id": "OFz5uXgNjZd7",
        "colab": {
          "base_uri": "https://localhost:8080/"
        },
        "outputId": "a50cf7d4-7b68-43d5-b9bf-aa7132cebe98"
      },
      "execution_count": null,
      "outputs": [
        {
          "output_type": "execute_result",
          "data": {
            "text/plain": [
              "array([32, 50, 47, 39, 48, 32, 49, 23, 49, 31, 19, 31, 29, 37, 36, 20, 45,\n",
              "       38, 42, 24, 43, 26, 35, 60, 57, 58, 59, 70, 68, 55, 60, 70, 51, 74,\n",
              "       65, 60, 53, 72, 68, 47, 22, 68, 26, 16, 23, 41, 59, 49, 28, 47, 47,\n",
              "       32, 56, 47, 72, 22, 36, 50, 59, 24, 43, 60, 39, 40, 37, 23, 64, 45,\n",
              "       50, 53, 20, 51, 56, 35, 46, 72, 40, 69, 65, 30, 28, 49, 34, 69, 32,\n",
              "       39, 37, 23, 66, 20, 28, 58, 38, 52, 47, 21, 45, 23, 39, 74, 34, 43,\n",
              "       32, 16, 25, 39, 26, 42, 61, 51, 28, 57, 15, 53, 62, 34, 70, 19, 74,\n",
              "       18, 43, 61, 37, 29, 42, 24, 69, 68, 42, 16], dtype=object)"
            ]
          },
          "metadata": {},
          "execution_count": 357
        }
      ]
    },
    {
      "cell_type": "code",
      "source": [
        "label_encoder_Sex = LabelEncoder()"
      ],
      "metadata": {
        "id": "hEgGLwa_nDmk"
      },
      "execution_count": null,
      "outputs": []
    },
    {
      "cell_type": "code",
      "source": [
        "X_prev[:,1] = label_encoder_Sex.fit_transform(X_prev[:,1])\n",
        "X_prev[:, 2] = [2 if x == 'HIGH' else 1 if x == 'NORMAL' else 0 for x in X_prev[:, 2]]\n",
        "X_prev[:, 3] = [1 if x == 'HIGH' else 0 for x in X_prev[:, 3]]"
      ],
      "metadata": {
        "id": "CPHvoFGynldw"
      },
      "execution_count": null,
      "outputs": []
    },
    {
      "cell_type": "code",
      "source": [
        "X_prev"
      ],
      "metadata": {
        "colab": {
          "base_uri": "https://localhost:8080/"
        },
        "id": "phQP4ayIo7JC",
        "outputId": "e393c271-1a1f-4e6b-8d12-6e2731155b75"
      },
      "execution_count": null,
      "outputs": [
        {
          "output_type": "execute_result",
          "data": {
            "text/plain": [
              "array([[32, 0, 2, 0, 10.292],\n",
              "       [50, 1, 2, 1, 7.49],\n",
              "       [47, 1, 2, 1, 10.403],\n",
              "       [39, 1, 2, 1, 9.664],\n",
              "       [48, 1, 2, 0, 10.446],\n",
              "       [32, 1, 2, 0, 9.445],\n",
              "       [49, 1, 2, 0, 6.269],\n",
              "       [23, 1, 2, 1, 8.011],\n",
              "       [49, 1, 2, 0, 8.7],\n",
              "       [31, 1, 2, 0, 11.871],\n",
              "       [19, 0, 2, 1, 13.313],\n",
              "       [31, 1, 2, 0, 11.227],\n",
              "       [29, 1, 2, 1, 12.856],\n",
              "       [37, 0, 2, 1, 13.091],\n",
              "       [36, 0, 2, 1, 11.198],\n",
              "       [20, 0, 2, 1, 11.262],\n",
              "       [45, 0, 2, 1, 12.854],\n",
              "       [38, 0, 2, 0, 11.326],\n",
              "       [42, 1, 2, 0, 12.766],\n",
              "       [24, 1, 2, 0, 9.475],\n",
              "       [43, 1, 2, 1, 13.972],\n",
              "       [26, 0, 2, 0, 12.307],\n",
              "       [35, 0, 2, 1, 12.894],\n",
              "       [60, 1, 2, 0, 8.621],\n",
              "       [57, 0, 2, 0, 9.945],\n",
              "       [58, 0, 2, 0, 14.239],\n",
              "       [59, 1, 2, 1, 13.935],\n",
              "       [70, 1, 2, 1, 9.849],\n",
              "       [68, 0, 2, 0, 10.189],\n",
              "       [55, 0, 2, 1, 10.977],\n",
              "       [60, 1, 2, 1, 13.934],\n",
              "       [70, 1, 2, 1, 13.967],\n",
              "       [51, 1, 2, 0, 11.343],\n",
              "       [74, 1, 2, 1, 9.567],\n",
              "       [65, 1, 2, 0, 11.34],\n",
              "       [60, 0, 2, 1, 13.303],\n",
              "       [53, 0, 2, 0, 12.495],\n",
              "       [72, 1, 2, 0, 9.677],\n",
              "       [68, 1, 2, 1, 11.009],\n",
              "       [47, 0, 0, 1, 10.067],\n",
              "       [22, 1, 0, 1, 8.151],\n",
              "       [68, 1, 0, 1, 10.291],\n",
              "       [26, 0, 0, 1, 14.16],\n",
              "       [16, 1, 0, 1, 12.006],\n",
              "       [23, 1, 0, 1, 7.298],\n",
              "       [41, 1, 0, 1, 11.037],\n",
              "       [59, 0, 0, 1, 10.444],\n",
              "       [49, 1, 0, 1, 10.537],\n",
              "       [28, 0, 0, 1, 13.127],\n",
              "       [47, 1, 0, 1, 10.114],\n",
              "       [47, 1, 0, 1, 13.093],\n",
              "       [32, 0, 0, 1, 9.712],\n",
              "       [56, 0, 0, 1, 11.567],\n",
              "       [47, 0, 0, 1, 11.767],\n",
              "       [72, 1, 0, 1, 6.769],\n",
              "       [22, 1, 1, 1, 11.953],\n",
              "       [36, 1, 0, 0, 11.424],\n",
              "       [50, 0, 1, 1, 12.703],\n",
              "       [59, 0, 1, 1, 13.884],\n",
              "       [24, 0, 1, 1, 10.605],\n",
              "       [43, 1, 1, 0, 12.859],\n",
              "       [60, 1, 1, 0, 10.091],\n",
              "       [39, 1, 0, 0, 13.938],\n",
              "       [40, 0, 0, 0, 11.349],\n",
              "       [37, 0, 0, 0, 12.006],\n",
              "       [23, 1, 1, 0, 14.02],\n",
              "       [64, 1, 1, 1, 7.761],\n",
              "       [45, 1, 0, 0, 10.017],\n",
              "       [50, 0, 1, 0, 12.295],\n",
              "       [53, 1, 1, 1, 14.133],\n",
              "       [20, 0, 1, 0, 9.281],\n",
              "       [51, 0, 1, 1, 13.597],\n",
              "       [56, 1, 1, 1, 8.966],\n",
              "       [35, 1, 1, 0, 7.845],\n",
              "       [46, 1, 1, 0, 7.285],\n",
              "       [72, 0, 0, 0, 14.642],\n",
              "       [40, 0, 1, 1, 10.103],\n",
              "       [69, 1, 0, 0, 11.455],\n",
              "       [65, 0, 0, 0, 13.769],\n",
              "       [30, 0, 1, 1, 10.443],\n",
              "       [28, 0, 1, 1, 12.879],\n",
              "       [49, 1, 0, 0, 11.014],\n",
              "       [34, 0, 0, 0, 12.923],\n",
              "       [69, 0, 1, 1, 10.065],\n",
              "       [32, 0, 0, 0, 10.84],\n",
              "       [39, 0, 1, 0, 9.709],\n",
              "       [37, 1, 0, 0, 8.968],\n",
              "       [23, 1, 1, 1, 12.26],\n",
              "       [66, 0, 1, 0, 8.107],\n",
              "       [20, 0, 0, 0, 11.686],\n",
              "       [28, 0, 2, 0, 18.809],\n",
              "       [58, 0, 0, 1, 26.645],\n",
              "       [38, 0, 0, 0, 29.875],\n",
              "       [52, 1, 0, 0, 32.922],\n",
              "       [47, 1, 0, 0, 30.568],\n",
              "       [21, 0, 2, 0, 28.632],\n",
              "       [45, 1, 0, 1, 17.951],\n",
              "       [23, 1, 1, 1, 16.85],\n",
              "       [39, 0, 0, 0, 22.697],\n",
              "       [74, 0, 0, 1, 20.942],\n",
              "       [34, 0, 2, 0, 19.199],\n",
              "       [43, 1, 0, 1, 15.376],\n",
              "       [32, 0, 2, 0, 25.974],\n",
              "       [16, 1, 2, 0, 19.007],\n",
              "       [25, 1, 1, 1, 19.011],\n",
              "       [39, 0, 1, 0, 17.225],\n",
              "       [26, 1, 0, 0, 20.909],\n",
              "       [42, 0, 2, 1, 21.036],\n",
              "       [61, 0, 0, 1, 18.043],\n",
              "       [51, 0, 0, 0, 23.003],\n",
              "       [28, 1, 1, 1, 27.064],\n",
              "       [57, 0, 1, 0, 25.893],\n",
              "       [15, 1, 2, 0, 17.206],\n",
              "       [53, 1, 0, 1, 22.963],\n",
              "       [62, 1, 0, 0, 27.183],\n",
              "       [34, 1, 2, 1, 18.703],\n",
              "       [70, 0, 1, 1, 20.489],\n",
              "       [19, 0, 2, 0, 25.969],\n",
              "       [74, 1, 2, 0, 15.436],\n",
              "       [18, 0, 2, 0, 24.276],\n",
              "       [43, 1, 0, 0, 19.368],\n",
              "       [61, 0, 2, 1, 25.475],\n",
              "       [37, 1, 0, 0, 16.724],\n",
              "       [29, 0, 2, 1, 29.45],\n",
              "       [42, 0, 0, 0, 29.271],\n",
              "       [24, 0, 2, 0, 18.457],\n",
              "       [69, 1, 0, 1, 15.478],\n",
              "       [68, 0, 1, 0, 27.05],\n",
              "       [42, 1, 0, 1, 20.013],\n",
              "       [16, 0, 2, 0, 15.516]], dtype=object)"
            ]
          },
          "metadata": {},
          "execution_count": 360
        }
      ]
    },
    {
      "cell_type": "code",
      "source": [
        "X_prev.shape"
      ],
      "metadata": {
        "colab": {
          "base_uri": "https://localhost:8080/"
        },
        "id": "6YoPu2Vt8mMY",
        "outputId": "7f30cae0-5f9a-4ae1-9d99-254309515faa"
      },
      "execution_count": null,
      "outputs": [
        {
          "output_type": "execute_result",
          "data": {
            "text/plain": [
              "(130, 5)"
            ]
          },
          "metadata": {},
          "execution_count": 361
        }
      ]
    },
    {
      "cell_type": "markdown",
      "source": [
        "**Método de amostragem Holdout**"
      ],
      "metadata": {
        "id": "9dxbazZBDX6H"
      }
    },
    {
      "cell_type": "code",
      "source": [
        "from sklearn.model_selection import train_test_split"
      ],
      "metadata": {
        "id": "_qGk4N4CK7LQ"
      },
      "execution_count": null,
      "outputs": []
    },
    {
      "cell_type": "code",
      "source": [
        "y_classe.shape"
      ],
      "metadata": {
        "colab": {
          "base_uri": "https://localhost:8080/"
        },
        "id": "BBaT0pZRIocD",
        "outputId": "a2217276-53f0-474b-a4e1-03bd899a8b08"
      },
      "execution_count": null,
      "outputs": [
        {
          "output_type": "execute_result",
          "data": {
            "text/plain": [
              "(130,)"
            ]
          },
          "metadata": {},
          "execution_count": 363
        }
      ]
    },
    {
      "cell_type": "code",
      "source": [
        "X_treino, X_teste, y_treino, y_teste = train_test_split(X_prev, y_classe, test_size=0.3, random_state=42, stratify=y_classe)"
      ],
      "metadata": {
        "id": "BQ7sHFHmDz_b"
      },
      "execution_count": null,
      "outputs": []
    },
    {
      "cell_type": "code",
      "source": [
        "X_treino.shape, X_teste.shape"
      ],
      "metadata": {
        "colab": {
          "base_uri": "https://localhost:8080/"
        },
        "id": "nXswVGPeK_HB",
        "outputId": "892d9f32-ee1c-4899-e378-32721fdfe610"
      },
      "execution_count": null,
      "outputs": [
        {
          "output_type": "execute_result",
          "data": {
            "text/plain": [
              "((91, 5), (39, 5))"
            ]
          },
          "metadata": {},
          "execution_count": 365
        }
      ]
    },
    {
      "cell_type": "markdown",
      "source": [
        "**Vamos experimentar agora o algoritmo Decision Tree?**"
      ],
      "metadata": {
        "id": "xjXeoACF-VQ2"
      }
    },
    {
      "cell_type": "code",
      "source": [
        "modelo = DecisionTreeClassifier(criterion='gini', max_depth=3, random_state=0)\n",
        "Y = modelo.fit(X_treino, y_treino)"
      ],
      "metadata": {
        "id": "AClMh6N8-brS"
      },
      "execution_count": null,
      "outputs": []
    },
    {
      "cell_type": "markdown",
      "source": [
        "**Vamos testar o modelo?**"
      ],
      "metadata": {
        "id": "K0mMv2ee-giy"
      }
    },
    {
      "cell_type": "code",
      "source": [
        "previsoes = modelo.predict(X_teste)"
      ],
      "metadata": {
        "id": "vSM0iojm-eJG"
      },
      "execution_count": null,
      "outputs": []
    },
    {
      "cell_type": "markdown",
      "source": [
        "**Será se o modelo acertou?**"
      ],
      "metadata": {
        "id": "eaRwO_c6-o03"
      }
    },
    {
      "cell_type": "code",
      "source": [
        "from sklearn.metrics import accuracy_score, confusion_matrix, classification_report\n",
        "accuracy_score(y_teste,previsoes)"
      ],
      "metadata": {
        "colab": {
          "base_uri": "https://localhost:8080/"
        },
        "id": "Lfi0jKBQ-vL-",
        "outputId": "7946e7a9-6223-4823-c87b-8ee47c0d1a3f"
      },
      "execution_count": null,
      "outputs": [
        {
          "output_type": "execute_result",
          "data": {
            "text/plain": [
              "0.8974358974358975"
            ]
          },
          "metadata": {},
          "execution_count": 368
        }
      ]
    },
    {
      "cell_type": "code",
      "source": [
        "from yellowbrick.classifier import ConfusionMatrix\n",
        "confusion_matrix(y_teste, previsoes)"
      ],
      "metadata": {
        "colab": {
          "base_uri": "https://localhost:8080/"
        },
        "id": "Pv0csSHt-wP5",
        "outputId": "553965d3-79af-4497-a9f0-b10c552289dd"
      },
      "execution_count": null,
      "outputs": [
        {
          "output_type": "execute_result",
          "data": {
            "text/plain": [
              "array([[ 7,  0,  0,  0,  0],\n",
              "       [ 1,  4,  0,  0,  0],\n",
              "       [ 0,  0,  5,  0,  0],\n",
              "       [ 0,  0,  3,  7,  0],\n",
              "       [ 0,  0,  0,  0, 12]])"
            ]
          },
          "metadata": {},
          "execution_count": 369
        }
      ]
    },
    {
      "cell_type": "code",
      "source": [
        "cm = ConfusionMatrix(modelo)\n",
        "cm.fit(X_treino, y_treino)\n",
        "cm.score(X_teste, y_teste)"
      ],
      "metadata": {
        "colab": {
          "base_uri": "https://localhost:8080/",
          "height": 532
        },
        "id": "iMKsvFRN-yeq",
        "outputId": "494e6332-53b2-48f1-ce8c-26b57622ead8"
      },
      "execution_count": null,
      "outputs": [
        {
          "output_type": "execute_result",
          "data": {
            "text/plain": [
              "0.8974358974358975"
            ]
          },
          "metadata": {},
          "execution_count": 370
        },
        {
          "output_type": "display_data",
          "data": {
            "text/plain": [
              "<Figure size 800x550 with 1 Axes>"
            ],
            "image/png": "[encoded data removed]"
          },
          "metadata": {}
        }
      ]
    },
    {
      "cell_type": "code",
      "source": [
        "print(classification_report(y_teste, previsoes))"
      ],
      "metadata": {
        "colab": {
          "base_uri": "https://localhost:8080/"
        },
        "id": "2DmLhDE0-4pP",
        "outputId": "bfa6c002-f30f-4606-93d0-74e04fdf9964"
      },
      "execution_count": null,
      "outputs": [
        {
          "output_type": "stream",
          "name": "stdout",
          "text": [
            "              precision    recall  f1-score   support\n",
            "\n",
            "       drugA       0.88      1.00      0.93         7\n",
            "       drugB       1.00      0.80      0.89         5\n",
            "       drugC       0.62      1.00      0.77         5\n",
            "       drugX       1.00      0.70      0.82        10\n",
            "       drugY       1.00      1.00      1.00        12\n",
            "\n",
            "    accuracy                           0.90        39\n",
            "   macro avg       0.90      0.90      0.88        39\n",
            "weighted avg       0.93      0.90      0.90        39\n",
            "\n"
          ]
        }
      ]
    },
    {
      "cell_type": "markdown",
      "source": [
        "**Vamos ver a árvore?**"
      ],
      "metadata": {
        "id": "M_42WrGN_LrT"
      }
    },
    {
      "cell_type": "code",
      "source": [
        "from sklearn import tree\n",
        "plt.show(tree.plot_tree(Y))"
      ],
      "metadata": {
        "colab": {
          "base_uri": "https://localhost:8080/",
          "height": 460
        },
        "id": "w69oiCuz_O9R",
        "outputId": "9853f6d8-5432-42e0-9a4b-332458d83e60"
      },
      "execution_count": null,
      "outputs": [
        {
          "output_type": "display_data",
          "data": {
            "text/plain": [
              "<Figure size 800x550 with 1 Axes>"
            ],
            "image/png": "[encoded data removed]"
          },
          "metadata": {}
        }
      ]
    },
    {
      "cell_type": "markdown",
      "source": [
        "# **Árvore Final**"
      ],
      "metadata": {
        "id": "sy8alSty_P-B"
      }
    },
    {
      "cell_type": "code",
      "source": [
        "from sklearn import tree\n",
        "previsores = ['Age', 'Sex', 'BP', 'Cholesterol', 'Na_to_K']\n",
        "figura, eixos = plt.subplots(nrows=1, ncols=1, figsize=(13,13))\n",
        "tree.plot_tree(modelo, feature_names=previsores, class_names = modelo.classes_, filled=True);"
      ],
      "metadata": {
        "colab": {
          "base_uri": "https://localhost:8080/",
          "height": 815
        },
        "id": "fQb1CmKU_Wcz",
        "outputId": "ad55a4c2-ed59-4114-ba8c-e18c336ac46b"
      },
      "execution_count": null,
      "outputs": [
        {
          "output_type": "display_data",
          "data": {
            "text/plain": [
              "<Figure size 1300x1300 with 1 Axes>"
            ],
            "image/png": "[encoded data removed]"
          },
          "metadata": {}
        }
      ]
    }
  ]
}